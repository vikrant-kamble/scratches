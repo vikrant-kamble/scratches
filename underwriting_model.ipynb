{
 "cells": [
  {
   "cell_type": "code",
   "execution_count": 30,
   "id": "c529d5bf",
   "metadata": {
    "ExecuteTime": {
     "end_time": "2023-08-03T01:23:58.557242Z",
     "start_time": "2023-08-03T01:23:58.553352Z"
    }
   },
   "outputs": [],
   "source": [
    "import pandas as pd\n",
    "import numpy as np\n",
    "from data_science_tools.modeling import BaseUnsupervisedClassifierPandasOnly, ModelState, CapePipeline, BaseClassifierPandasOnly\n",
    "from data_science_tools.taxonomies import Taxonomy\n",
    "from transmo.transformers import FeatureSelect\n",
    "from transmo.models import PassthroughPrediction\n",
    "from sklearn.base import BaseEstimator, ClassifierMixin\n",
    "\n",
    "\n",
    "from typing import Collection"
   ]
  },
  {
   "cell_type": "code",
   "execution_count": 92,
   "id": "355a00a3",
   "metadata": {
    "ExecuteTime": {
     "end_time": "2023-08-03T01:40:59.050675Z",
     "start_time": "2023-08-03T01:40:59.043702Z"
    }
   },
   "outputs": [],
   "source": [
    "class UnderwritingRules(BaseEstimator, ClassifierMixin):\n",
    "\n",
    "    def __init__(self, taxonomy_labels=None):\n",
    "        self.taxonomy_labels = taxonomy_labels\n",
    "        super().__init__()\n",
    "\n",
    "    @staticmethod\n",
    "    def underwriting_flag_rules(cape_roof_condition_rating: str,\n",
    "                                cape_roof_condition_rating_severe: float,\n",
    "                                cape_roof_condition_rating_poor: float,\n",
    "                                cape_roof_condition_reasons: Collection[str],\n",
    "                                cape_roof_material_degradation_reason: str,\n",
    "                                cape_roof_material_degradation: str):\n",
    "        if (cape_roof_condition_rating\n",
    "                == '-2') or (cape_roof_condition_rating == '-1' and\n",
    "                             (cape_roof_condition_rating_severe >= 0.2\n",
    "                              or cape_roof_condition_rating_poor >= 0.65)):\n",
    "            if 'tarp' in cape_roof_condition_reasons or (\n",
    "                ('roof_material_degradation' in cape_roof_condition_reasons) and\n",
    "                (('missing_or_peeling_material'in cape_roof_material_degradation_reason) or\n",
    "                 ('rusting' in cape_roof_material_degradation_reason) or\n",
    "                 (cape_roof_material_degradation == \"roof_material_degration_major\"))):\n",
    "                return 'risk'\n",
    "            else:\n",
    "                return 'low_risk'\n",
    "        return 'low_risk'\n",
    "\n",
    "    def fit(self, X: pd.DataFrame, y=None) -> ModelState:\n",
    "        # self._declare_my_classes(self.taxonomy_labels)\n",
    "        return ModelState()\n",
    "\n",
    "    def _predict_one(self, row):\n",
    "        return self.underwriting_flag_rules(row[\"cape_roof_condition_rating\"],\n",
    "                                       row[\"cape_roof_condition_rating_severe\"],\n",
    "                                       row['cape_roof_condition_rating_poor'],\n",
    "                                       row['cape_roof_condition_reasons'],\n",
    "                                       row['cape_roof_material_degradation_reason'],\n",
    "                                       row['cape_roof_material_degradation'],\n",
    "                                      )\n",
    "\n",
    "    def predict(self, X: pd.DataFrame) -> list:\n",
    "        return X.apply(self._predict_one, axis=1)"
   ]
  },
  {
   "cell_type": "code",
   "execution_count": 93,
   "id": "cb0d5bfe",
   "metadata": {
    "ExecuteTime": {
     "end_time": "2023-08-03T01:40:59.359914Z",
     "start_time": "2023-08-03T01:40:59.356173Z"
    }
   },
   "outputs": [],
   "source": [
    "fs = FeatureSelect(\n",
    "    [\n",
    "        \"cape_roof_condition_rating\",  \n",
    "        \"cape_roof_condition_rating_severe\",\n",
    "        \"cape_roof_condition_rating_poor\",\n",
    "        \"cape_roof_condition_reasons\",\n",
    "        \"cape_roof_material_degradation_reason\",\n",
    "        \"cape_roof_material_degradation\",\n",
    "        \"ATTOM.all_data.propertyusestandardized\"\n",
    "    ]\n",
    ")\n",
    "\n",
    "model = UnderwritingRules(taxonomy_labels=[\"risk\", \"low_risk\"])\n",
    "\n",
    "pipeline = CapePipeline(\n",
    "    steps=[(\"feature_select\", fs), \n",
    "           (\"model\", model)],\n",
    ")"
   ]
  },
  {
   "cell_type": "code",
   "execution_count": 94,
   "id": "bf1977b1",
   "metadata": {
    "ExecuteTime": {
     "end_time": "2023-08-03T01:40:59.915525Z",
     "start_time": "2023-08-03T01:40:59.908246Z"
    }
   },
   "outputs": [
    {
     "data": {
      "text/plain": [
       "cape_roof_condition_rating                                           -2\n",
       "cape_roof_condition_rating_severe                                   0.5\n",
       "cape_roof_condition_rating_poor                                     0.5\n",
       "cape_roof_condition_reasons                 [roof_material_degradation]\n",
       "cape_roof_material_degradation_reason                         [rusting]\n",
       "cape_roof_material_degradation            roof_material_degration_major\n",
       "ATTOM.all_data.propertyusestandardized                              123\n",
       "Name: 0, dtype: object"
      ]
     },
     "execution_count": 94,
     "metadata": {},
     "output_type": "execute_result"
    }
   ],
   "source": [
    "dummy_data = pd.DataFrame({\n",
    "    \"cape_roof_condition_rating\": ['-2'],\n",
    "    \"cape_roof_condition_rating_severe\": [0.5],\n",
    "    \"cape_roof_condition_rating_poor\": [0.5],\n",
    "    \"cape_roof_condition_reasons\": [[\"roof_material_degradation\"]],\n",
    "    \"cape_roof_material_degradation_reason\": [['rusting']],\n",
    "    \"cape_roof_material_degradation\": [\"roof_material_degration_major\"],\n",
    "    \"ATTOM.all_data.propertyusestandardized\": [123]\n",
    "})\n",
    "dummy_data.iloc[0]"
   ]
  },
  {
   "cell_type": "code",
   "execution_count": 95,
   "id": "ae07b193",
   "metadata": {
    "ExecuteTime": {
     "end_time": "2023-08-03T01:41:00.343398Z",
     "start_time": "2023-08-03T01:41:00.339562Z"
    }
   },
   "outputs": [],
   "source": [
    "# fit model\n",
    "_ = pipeline.fit(X=dummy_data)"
   ]
  },
  {
   "cell_type": "code",
   "execution_count": 96,
   "id": "c5aefd4a",
   "metadata": {
    "ExecuteTime": {
     "end_time": "2023-08-03T01:41:00.954876Z",
     "start_time": "2023-08-03T01:41:00.948397Z"
    }
   },
   "outputs": [
    {
     "data": {
      "text/plain": [
       "0    risk\n",
       "dtype: object"
      ]
     },
     "execution_count": 96,
     "metadata": {},
     "output_type": "execute_result"
    }
   ],
   "source": [
    "# predict\n",
    "pipeline.predict(X=dummy_data)"
   ]
  },
  {
   "cell_type": "code",
   "execution_count": null,
   "id": "7d7eac35",
   "metadata": {},
   "outputs": [],
   "source": []
  }
 ],
 "metadata": {
  "hide_input": false,
  "kernelspec": {
   "display_name": "Python 3 (ipykernel)",
   "language": "python",
   "name": "python3"
  },
  "language_info": {
   "codemirror_mode": {
    "name": "ipython",
    "version": 3
   },
   "file_extension": ".py",
   "mimetype": "text/x-python",
   "name": "python",
   "nbconvert_exporter": "python",
   "pygments_lexer": "ipython3",
   "version": "3.8.16"
  }
 },
 "nbformat": 4,
 "nbformat_minor": 5
}
